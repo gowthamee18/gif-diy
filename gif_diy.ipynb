{
  "nbformat": 4,
  "nbformat_minor": 0,
  "metadata": {
    "colab": {
      "provenance": []
    },
    "kernelspec": {
      "name": "python3",
      "display_name": "Python 3"
    },
    "language_info": {
      "name": "python"
    }
  },
  "cells": [
    {
      "cell_type": "code",
      "execution_count": 13,
      "metadata": {
        "colab": {
          "base_uri": "https://localhost:8080/"
        },
        "id": "BzZg7HZ9EuqX",
        "outputId": "0a3a93f3-499f-485b-9a7a-fb1531447b08"
      },
      "outputs": [
        {
          "output_type": "stream",
          "name": "stdout",
          "text": [
            "Requirement already satisfied: imageio in /usr/local/lib/python3.11/dist-packages (2.37.0)\n",
            "Requirement already satisfied: numpy in /usr/local/lib/python3.11/dist-packages (from imageio) (2.0.2)\n",
            "Requirement already satisfied: pillow>=8.3.2 in /usr/local/lib/python3.11/dist-packages (from imageio) (11.2.1)\n"
          ]
        }
      ],
      "source": [
        "!pip3 install imageio"
      ]
    },
    {
      "cell_type": "code",
      "source": [
        "import imageio.v3 as iio"
      ],
      "metadata": {
        "id": "nk_RfwFPE4k1"
      },
      "execution_count": 14,
      "outputs": []
    },
    {
      "cell_type": "code",
      "source": [
        "filenames = ['1.png', '2.png','3.png','4.png','5.png']\n",
        "images = [ ]"
      ],
      "metadata": {
        "id": "o3ZqUwzIE4nG"
      },
      "execution_count": 18,
      "outputs": []
    },
    {
      "cell_type": "code",
      "source": [
        "for filename in filenames:\n",
        "  images.append(iio.imread(filename))"
      ],
      "metadata": {
        "id": "d6h6ZaX6E4pc"
      },
      "execution_count": 19,
      "outputs": []
    },
    {
      "cell_type": "code",
      "source": [
        "iio.imwrite('cinnamonroll.gif', images, duration = 200, loop = 0)"
      ],
      "metadata": {
        "id": "pkXIqDdnE4rh"
      },
      "execution_count": 23,
      "outputs": []
    },
    {
      "cell_type": "code",
      "source": [],
      "metadata": {
        "id": "YYd5vFcFE4vt"
      },
      "execution_count": 12,
      "outputs": []
    },
    {
      "cell_type": "code",
      "source": [],
      "metadata": {
        "id": "k3qeArOhE4yT"
      },
      "execution_count": 12,
      "outputs": []
    },
    {
      "cell_type": "code",
      "source": [],
      "metadata": {
        "id": "G5A91payE40Z"
      },
      "execution_count": 12,
      "outputs": []
    },
    {
      "cell_type": "code",
      "source": [],
      "metadata": {
        "id": "BnzXLJU1E42g"
      },
      "execution_count": 12,
      "outputs": []
    }
  ]
}